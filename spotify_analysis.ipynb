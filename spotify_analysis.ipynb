{
 "cells": [
  {
   "cell_type": "markdown",
   "id": "c7c6f357",
   "metadata": {},
   "source": [
    "## **DAT 402 Project 1**   \n",
    "## **Predicting Spotify Song Popularity**\n",
    "\n",
    "**Team Members:**\n",
    "- Pete VanBenthuysen\n",
    "- Emily Szolnoki"
   ]
  },
  {
   "cell_type": "markdown",
   "id": "15eaf1fe",
   "metadata": {},
   "source": [
    "**Project Goal:**\n",
    "Predict whether a song will be popular (popularity $ \\geq 70 $) based on its musical features, such as **danceability**, **energy**, and **tempo**. This project helps us identify which characteristics are most influential in determining whether a song becomes popular. We are most interested in analyzing and building a model to predict song popularity based on those musical attributes and more, allowing for potential insights in playlist curation and music production."
   ]
  },
  {
   "cell_type": "markdown",
   "id": "77f49ec6",
   "metadata": {},
   "source": [
    "**Dataset:**\n",
    "We are using a dataset from Kaggle called 'Spotify Tracks DB'. The raw dataset includes 18 columns and 232,725 rows with a mix of categorical and numerical features. There are also no missing values."
   ]
  },
  {
   "cell_type": "markdown",
   "id": "55c07c09",
   "metadata": {},
   "source": [
    " (https://www.kaggle.com/datasets/zaheenhamidani/ultimate-spotify-tracks-db)"
   ]
  },
  {
   "cell_type": "markdown",
   "id": "2dad0916",
   "metadata": {},
   "source": [
    "**Columns:**\n",
    "- **genre**: Genre of the song.\n",
    "- **artist_name**: Name of the artist.\n",
    "- **track_name**: Name of the track.\n",
    "- **track_id**: Unique ID for each track.\n",
    "- **popularity**: Popularity score of the song (ranging from 0 to 100).\n",
    "- **acousticness**: A measure of how acoustic the song is (ranging from 0 to 1).\n",
    "- **danceability**: How suitable the song is for dancing (ranging from 0 to 1).\n",
    "- **duration_ms**: Duration of the trach in milliseconds.\n",
    "- **energy**: A measure of energy, typically related to the intensity and activity of the track (ranging from 0 to 1).\n",
    "- **instrumentalness**: A measure of whether the track is instrumental (ranging from 0 to 1).\n",
    "- **key**: The musical key of the track.\n",
    "- **liveness**: Measure of the presence of a live audience (ranging from 0 to 1).\n",
    "- **loudness**: The overall loudness of the track in decibels.\n",
    "- **mode**: The modality of the track.\n",
    "- **speechiness**: Speechiness measure of the track (ranging from 0 to 1).\n",
    "- **tempo**: The tempo (beats per minute) of the track.\n",
    "- **time_signature**: The time signature of the track.\n",
    "- **valence**: A measure of musical positiveness (ranging from 0 to 1)."
   ]
  },
  {
   "cell_type": "markdown",
   "id": "3ac0e99c",
   "metadata": {},
   "source": [
    "### **Imports**"
   ]
  },
  {
   "cell_type": "code",
   "execution_count": 1,
   "id": "dd8078a4",
   "metadata": {},
   "outputs": [
    {
     "ename": "ModuleNotFoundError",
     "evalue": "No module named 'pandas'",
     "output_type": "error",
     "traceback": [
      "\u001b[0;31m---------------------------------------------------------------------------\u001b[0m",
      "\u001b[0;31mModuleNotFoundError\u001b[0m                       Traceback (most recent call last)",
      "Cell \u001b[0;32mIn[1], line 1\u001b[0m\n\u001b[0;32m----> 1\u001b[0m \u001b[38;5;28;01mimport\u001b[39;00m\u001b[38;5;250m \u001b[39m\u001b[38;5;21;01mpandas\u001b[39;00m\u001b[38;5;250m \u001b[39m\u001b[38;5;28;01mas\u001b[39;00m\u001b[38;5;250m \u001b[39m\u001b[38;5;21;01mpd\u001b[39;00m\n\u001b[1;32m      2\u001b[0m \u001b[38;5;28;01mimport\u001b[39;00m\u001b[38;5;250m \u001b[39m\u001b[38;5;21;01mnumpy\u001b[39;00m\u001b[38;5;250m \u001b[39m\u001b[38;5;28;01mas\u001b[39;00m\u001b[38;5;250m \u001b[39m\u001b[38;5;21;01mnp\u001b[39;00m\n\u001b[1;32m      3\u001b[0m \u001b[38;5;28;01mimport\u001b[39;00m\u001b[38;5;250m \u001b[39m\u001b[38;5;21;01mmatplotlib\u001b[39;00m\u001b[38;5;21;01m.\u001b[39;00m\u001b[38;5;21;01mpyplot\u001b[39;00m\u001b[38;5;250m \u001b[39m\u001b[38;5;28;01mas\u001b[39;00m\u001b[38;5;250m \u001b[39m\u001b[38;5;21;01mplt\u001b[39;00m\n",
      "\u001b[0;31mModuleNotFoundError\u001b[0m: No module named 'pandas'"
     ]
    }
   ],
   "source": [
    "import pandas as pd\n",
    "import numpy as np\n",
    "import matplotlib.pyplot as plt\n",
    "import seaborn as sns\n",
    "\n",
    "# Model selection and evaluation\n",
    "from sklearn.model_selection import train_test_split as tts, GridSearchCV\n",
    "from sklearn.linear_model import LinearRegression, LogisticRegression\n",
    "from sklearn.ensemble import RandomForestClassifier\n",
    "from sklearn.metrics import classification_report, confusion_matrix, mean_squared_error, r2_score\n",
    "\n",
    "# Preprocessing\n",
    "from sklearn.preprocessing import StandardScaler"
   ]
  },
  {
   "cell_type": "markdown",
   "id": "7a6c1d4e",
   "metadata": {},
   "source": [
    "### **Data Loading and Cleaning**"
   ]
  },
  {
   "cell_type": "markdown",
   "id": "1369aaf2",
   "metadata": {},
   "source": []
  },
  {
   "cell_type": "code",
   "execution_count": null,
   "id": "445561cd",
   "metadata": {},
   "outputs": [],
   "source": [
    "# Load dataset\n",
    "df = pd.read_csv(\"data/SpotifyFeatures.csv\", parse_dates=False) # Set parse_dates=False to avoid parsing dates\n",
    "print(df.head())\n",
    "\n",
    "print(df.isnull().sum()) # Check for missing values"
   ]
  }
 ],
 "metadata": {
  "kernelspec": {
   "display_name": "venv",
   "language": "python",
   "name": "python3"
  },
  "language_info": {
   "codemirror_mode": {
    "name": "ipython",
    "version": 3
   },
   "file_extension": ".py",
   "mimetype": "text/x-python",
   "name": "python",
   "nbconvert_exporter": "python",
   "pygments_lexer": "ipython3",
   "version": "3.9.6"
  }
 },
 "nbformat": 4,
 "nbformat_minor": 5
}
